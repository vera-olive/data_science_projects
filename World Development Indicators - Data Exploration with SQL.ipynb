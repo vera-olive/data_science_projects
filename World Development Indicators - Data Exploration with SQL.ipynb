{
 "cells": [
  {
   "cell_type": "markdown",
   "id": "e8e42920",
   "metadata": {},
   "source": [
    "## World Development Indicators\n",
    "\n",
    "The World Development Indicators (WDI) is the primary World Bank collection of development indicators, compiled from officially-recognized international sources. It presents the most current and accurate global development data available, and includes national, regional and global estimates.\n",
    "\n",
    "A searchable thematic list of all indicators is available [here](https://data.worldbank.org/indicator?tab=all)."
   ]
  },
  {
   "cell_type": "markdown",
   "id": "dfa86213",
   "metadata": {},
   "source": [
    "In this notebook we will be connecting to the database `indicators`, downloaded from [Kaggle](https://www.kaggle.com/datasets/psycon/world-development-indicators?select=indicators.sqlite), which contains the 2022 World Development Indicators.\n",
    "\n",
    "We will be using IPython's SQL extension and `%sql`/`%%sql` magic functions to query this database. "
   ]
  },
  {
   "cell_type": "code",
   "execution_count": 1,
   "id": "dc16c116",
   "metadata": {},
   "outputs": [],
   "source": [
    "# Load IPython SQL extension \n",
    "%load_ext sql\n",
    "\n",
    "# Connect to the `indicators` database.\n",
    "%sql sqlite:///indicators.sqlite"
   ]
  },
  {
   "cell_type": "markdown",
   "id": "718f902c",
   "metadata": {},
   "source": [
    "Then we want to list all tables in this database. This can be done by using a `SELECT` statement on `sqlite_master`. `sqlite_master` is an internal table present in all SQLite databases that describes the database's schema."
   ]
  },
  {
   "cell_type": "code",
   "execution_count": 2,
   "id": "0f91a8c9",
   "metadata": {
    "scrolled": true
   },
   "outputs": [
    {
     "name": "stdout",
     "output_type": "stream",
     "text": [
      " * sqlite:///indicators.sqlite\n",
      "Done.\n"
     ]
    },
    {
     "data": {
      "text/html": [
       "<table>\n",
       "    <tr>\n",
       "        <th>type</th>\n",
       "        <th>name</th>\n",
       "        <th>tbl_name</th>\n",
       "        <th>rootpage</th>\n",
       "        <th>sql</th>\n",
       "    </tr>\n",
       "    <tr>\n",
       "        <td>table</td>\n",
       "        <td>Country</td>\n",
       "        <td>Country</td>\n",
       "        <td>2</td>\n",
       "        <td>CREATE TABLE Country (<br>    CountryCode TEXT,<br>    ShortName TEXT,<br>    TableName TEXT,<br>    LongName TEXT,<br>    Alpha2Code TEXT,<br>    CurrencyUnit TEXT,<br>    SpecialNotes TEXT,<br>    Region TEXT,<br>    IncomeGroup TEXT,<br>    Wb2Code TEXT,<br>    NationalAccountsBaseYear TEXT,<br>    NationalAccountsReferenceYear TEXT,<br>    SnaPriceValuation TEXT,<br>    LendingCategory TEXT,<br>    OtherGroups TEXT,<br>    SystemOfNationalAccounts TEXT,<br>    AlternativeConversionFactor TEXT,<br>    PppSurveyYear TEXT,<br>    BalanceOfPaymentsManualInUse TEXT,<br>    ExternalDebtReportingStatus TEXT,<br>    SystemOfTrade TEXT,<br>    GovernmentAccountingConcept TEXT,<br>    ImfDataDisseminationStandard TEXT,<br>    LatestPopulationCensus TEXT,<br>    LatestHouseholdSurvey TEXT,<br>    SourceOfMostRecentIncomeAndExpenditureData TEXT,<br>    VitalRegistrationComplete TEXT,<br>    LatestAgriculturalCensus TEXT,<br>    LatestIndustrialData NUMERIC,<br>    LatestTradeData NUMERIC,<br>    LatestWaterWithdrawalData NUMERIC)</td>\n",
       "    </tr>\n",
       "    <tr>\n",
       "        <td>table</td>\n",
       "        <td>CountryNotes</td>\n",
       "        <td>CountryNotes</td>\n",
       "        <td>186</td>\n",
       "        <td>CREATE TABLE CountryNotes (<br>    Countrycode TEXT,<br>    Seriescode TEXT,<br>    Description TEXT)</td>\n",
       "    </tr>\n",
       "    <tr>\n",
       "        <td>table</td>\n",
       "        <td>Series</td>\n",
       "        <td>Series</td>\n",
       "        <td>948</td>\n",
       "        <td>CREATE TABLE Series (<br>    SeriesCode TEXT,<br>    Topic TEXT,<br>    IndicatorName TEXT,<br>    ShortDefinition TEXT,<br>    LongDefinition TEXT,<br>    UnitOfMeasure TEXT,<br>    Periodicity TEXT,<br>    BasePeriod TEXT,<br>    OtherNotes NUMERIC,<br>    AggregationMethod TEXT,<br>    LimitationsAndExceptions TEXT,<br>    NotesFromOriginalSource TEXT,<br>    GeneralComments TEXT,<br>    Source TEXT,<br>    StatisticalConceptAndMethodology TEXT,<br>    DevelopmentRelevance TEXT,<br>    RelatedSourceLinks TEXT,<br>    OtherWebLinks NUMERIC,<br>    RelatedIndicators NUMERIC,<br>    LicenseType TEXT)</td>\n",
       "    </tr>\n",
       "    <tr>\n",
       "        <td>table</td>\n",
       "        <td>Indicators</td>\n",
       "        <td>Indicators</td>\n",
       "        <td>4448</td>\n",
       "        <td>CREATE TABLE Indicators (<br>    CountryName TEXT,<br>    CountryCode TEXT,<br>    IndicatorName TEXT,<br>    IndicatorCode TEXT,<br>    Year INTEGER,<br>    Value NUMERIC)</td>\n",
       "    </tr>\n",
       "    <tr>\n",
       "        <td>table</td>\n",
       "        <td>SeriesNotes</td>\n",
       "        <td>SeriesNotes</td>\n",
       "        <td>1317550</td>\n",
       "        <td>CREATE TABLE SeriesNotes (<br>    Seriescode TEXT,<br>    Year TEXT,<br>    Description TEXT)</td>\n",
       "    </tr>\n",
       "    <tr>\n",
       "        <td>table</td>\n",
       "        <td>Footnotes</td>\n",
       "        <td>Footnotes</td>\n",
       "        <td>1317587</td>\n",
       "        <td>CREATE TABLE Footnotes (<br>    Countrycode TEXT,<br>    Seriescode TEXT,<br>    Year TEXT,<br>    Description TEXT)</td>\n",
       "    </tr>\n",
       "</table>"
      ],
      "text/plain": [
       "[('table', 'Country', 'Country', 2, 'CREATE TABLE Country (\\n    CountryCode TEXT,\\n    ShortName TEXT,\\n    TableName TEXT,\\n    LongName TEXT,\\n    Alpha2Code TEXT,\\n    CurrencyUnit T ... (677 characters truncated) ... te TEXT,\\n    LatestAgriculturalCensus TEXT,\\n    LatestIndustrialData NUMERIC,\\n    LatestTradeData NUMERIC,\\n    LatestWaterWithdrawalData NUMERIC)'),\n",
       " ('table', 'CountryNotes', 'CountryNotes', 186, 'CREATE TABLE CountryNotes (\\n    Countrycode TEXT,\\n    Seriescode TEXT,\\n    Description TEXT)'),\n",
       " ('table', 'Series', 'Series', 948, 'CREATE TABLE Series (\\n    SeriesCode TEXT,\\n    Topic TEXT,\\n    IndicatorName TEXT,\\n    ShortDefinition TEXT,\\n    LongDefinition TEXT,\\n    UnitO ... (269 characters truncated) ... EXT,\\n    DevelopmentRelevance TEXT,\\n    RelatedSourceLinks TEXT,\\n    OtherWebLinks NUMERIC,\\n    RelatedIndicators NUMERIC,\\n    LicenseType TEXT)'),\n",
       " ('table', 'Indicators', 'Indicators', 4448, 'CREATE TABLE Indicators (\\n    CountryName TEXT,\\n    CountryCode TEXT,\\n    IndicatorName TEXT,\\n    IndicatorCode TEXT,\\n    Year INTEGER,\\n    Value NUMERIC)'),\n",
       " ('table', 'SeriesNotes', 'SeriesNotes', 1317550, 'CREATE TABLE SeriesNotes (\\n    Seriescode TEXT,\\n    Year TEXT,\\n    Description TEXT)'),\n",
       " ('table', 'Footnotes', 'Footnotes', 1317587, 'CREATE TABLE Footnotes (\\n    Countrycode TEXT,\\n    Seriescode TEXT,\\n    Year TEXT,\\n    Description TEXT)')]"
      ]
     },
     "execution_count": 2,
     "metadata": {},
     "output_type": "execute_result"
    }
   ],
   "source": [
    "%%sql\n",
    "\n",
    "SELECT *\n",
    "    FROM sqlite_master\n",
    "    WHERE type='table'"
   ]
  },
  {
   "cell_type": "markdown",
   "id": "b7567466",
   "metadata": {},
   "source": [
    "We have 6 tables available: `Country`, `CountryNotes`, `Series`, `Indicators`, `SeriesNotes` and `Footnotes`."
   ]
  },
  {
   "cell_type": "markdown",
   "id": "94584aca",
   "metadata": {},
   "source": [
    "## Initial Exploration"
   ]
  },
  {
   "cell_type": "code",
   "execution_count": 3,
   "id": "30a0210e",
   "metadata": {},
   "outputs": [
    {
     "name": "stdout",
     "output_type": "stream",
     "text": [
      " * sqlite:///indicators.sqlite\n",
      "Done.\n"
     ]
    },
    {
     "data": {
      "text/html": [
       "<table>\n",
       "    <tr>\n",
       "        <th>CountryCode</th>\n",
       "        <th>ShortName</th>\n",
       "        <th>TableName</th>\n",
       "        <th>LongName</th>\n",
       "        <th>Alpha2Code</th>\n",
       "        <th>CurrencyUnit</th>\n",
       "        <th>SpecialNotes</th>\n",
       "        <th>Region</th>\n",
       "        <th>IncomeGroup</th>\n",
       "        <th>Wb2Code</th>\n",
       "        <th>NationalAccountsBaseYear</th>\n",
       "        <th>NationalAccountsReferenceYear</th>\n",
       "        <th>SnaPriceValuation</th>\n",
       "        <th>LendingCategory</th>\n",
       "        <th>OtherGroups</th>\n",
       "        <th>SystemOfNationalAccounts</th>\n",
       "        <th>AlternativeConversionFactor</th>\n",
       "        <th>PppSurveyYear</th>\n",
       "        <th>BalanceOfPaymentsManualInUse</th>\n",
       "        <th>ExternalDebtReportingStatus</th>\n",
       "        <th>SystemOfTrade</th>\n",
       "        <th>GovernmentAccountingConcept</th>\n",
       "        <th>ImfDataDisseminationStandard</th>\n",
       "        <th>LatestPopulationCensus</th>\n",
       "        <th>LatestHouseholdSurvey</th>\n",
       "        <th>SourceOfMostRecentIncomeAndExpenditureData</th>\n",
       "        <th>VitalRegistrationComplete</th>\n",
       "        <th>LatestAgriculturalCensus</th>\n",
       "        <th>LatestIndustrialData</th>\n",
       "        <th>LatestTradeData</th>\n",
       "        <th>LatestWaterWithdrawalData</th>\n",
       "    </tr>\n",
       "    <tr>\n",
       "        <td>AFG</td>\n",
       "        <td>Afghanistan</td>\n",
       "        <td>Afghanistan</td>\n",
       "        <td>Islamic State of Afghanistan</td>\n",
       "        <td>AF</td>\n",
       "        <td>Afghan afghani</td>\n",
       "        <td>Fiscal year end: March 20; reporting period for national accounts data: FY (from 2013 are CY). National accounts data are sourced from the IMF and differ from the Central Statistics Organization numbers due to exclusion of the opium economy.</td>\n",
       "        <td>South Asia</td>\n",
       "        <td>Low income</td>\n",
       "        <td>AF</td>\n",
       "        <td>2002/03</td>\n",
       "        <td></td>\n",
       "        <td>Value added at basic prices (VAB)</td>\n",
       "        <td>IDA</td>\n",
       "        <td>HIPC</td>\n",
       "        <td>Country uses the 1993 System of National Accounts methodology.</td>\n",
       "        <td></td>\n",
       "        <td></td>\n",
       "        <td></td>\n",
       "        <td>Actual</td>\n",
       "        <td>General trade system</td>\n",
       "        <td>Consolidated central government</td>\n",
       "        <td>General Data Dissemination System (GDDS)</td>\n",
       "        <td>1979</td>\n",
       "        <td>Multiple Indicator Cluster Survey (MICS), 2010/11</td>\n",
       "        <td>Integrated household survey (IHS), 2008</td>\n",
       "        <td></td>\n",
       "        <td>2013/14</td>\n",
       "        <td></td>\n",
       "        <td>2013</td>\n",
       "        <td>2000</td>\n",
       "    </tr>\n",
       "    <tr>\n",
       "        <td>ALB</td>\n",
       "        <td>Albania</td>\n",
       "        <td>Albania</td>\n",
       "        <td>Republic of Albania</td>\n",
       "        <td>AL</td>\n",
       "        <td>Albanian lek</td>\n",
       "        <td></td>\n",
       "        <td>Europe &amp; Central Asia</td>\n",
       "        <td>Upper middle income</td>\n",
       "        <td>AL</td>\n",
       "        <td>Original chained constant price data are rescaled.</td>\n",
       "        <td>1996</td>\n",
       "        <td>Value added at basic prices (VAB)</td>\n",
       "        <td>IBRD</td>\n",
       "        <td></td>\n",
       "        <td>Country uses the 1993 System of National Accounts methodology.</td>\n",
       "        <td></td>\n",
       "        <td>Rolling</td>\n",
       "        <td>IMF Balance of Payments Manual, 6th edition.</td>\n",
       "        <td>Actual</td>\n",
       "        <td>General trade system</td>\n",
       "        <td>Budgetary central government</td>\n",
       "        <td>General Data Dissemination System (GDDS)</td>\n",
       "        <td>2011</td>\n",
       "        <td>Demographic and Health Survey (DHS), 2008/09</td>\n",
       "        <td>Living Standards Measurement Study Survey (LSMS), 2011/12</td>\n",
       "        <td>Yes</td>\n",
       "        <td>2012</td>\n",
       "        <td>2011</td>\n",
       "        <td>2013</td>\n",
       "        <td>2006</td>\n",
       "    </tr>\n",
       "    <tr>\n",
       "        <td>DZA</td>\n",
       "        <td>Algeria</td>\n",
       "        <td>Algeria</td>\n",
       "        <td>People&#x27;s Democratic Republic of Algeria</td>\n",
       "        <td>DZ</td>\n",
       "        <td>Algerian dinar</td>\n",
       "        <td></td>\n",
       "        <td>Middle East &amp; North Africa</td>\n",
       "        <td>Upper middle income</td>\n",
       "        <td>DZ</td>\n",
       "        <td>1980</td>\n",
       "        <td></td>\n",
       "        <td>Value added at basic prices (VAB)</td>\n",
       "        <td>IBRD</td>\n",
       "        <td></td>\n",
       "        <td>Country uses the 1968 System of National Accounts methodology.</td>\n",
       "        <td></td>\n",
       "        <td>2011</td>\n",
       "        <td>IMF Balance of Payments Manual, 6th edition.</td>\n",
       "        <td>Actual</td>\n",
       "        <td>Special trade system</td>\n",
       "        <td>Budgetary central government</td>\n",
       "        <td>General Data Dissemination System (GDDS)</td>\n",
       "        <td>2008</td>\n",
       "        <td>Multiple Indicator Cluster Survey (MICS), 2012</td>\n",
       "        <td>Integrated household survey (IHS), 1995</td>\n",
       "        <td></td>\n",
       "        <td></td>\n",
       "        <td>2010</td>\n",
       "        <td>2013</td>\n",
       "        <td>2001</td>\n",
       "    </tr>\n",
       "    <tr>\n",
       "        <td>ASM</td>\n",
       "        <td>American Samoa</td>\n",
       "        <td>American Samoa</td>\n",
       "        <td>American Samoa</td>\n",
       "        <td>AS</td>\n",
       "        <td>U.S. dollar</td>\n",
       "        <td></td>\n",
       "        <td>East Asia &amp; Pacific</td>\n",
       "        <td>Upper middle income</td>\n",
       "        <td>AS</td>\n",
       "        <td></td>\n",
       "        <td></td>\n",
       "        <td></td>\n",
       "        <td></td>\n",
       "        <td></td>\n",
       "        <td>Country uses the 1968 System of National Accounts methodology.</td>\n",
       "        <td></td>\n",
       "        <td>2011 (household consumption only).</td>\n",
       "        <td></td>\n",
       "        <td></td>\n",
       "        <td>Special trade system</td>\n",
       "        <td></td>\n",
       "        <td></td>\n",
       "        <td>2010</td>\n",
       "        <td></td>\n",
       "        <td></td>\n",
       "        <td>Yes</td>\n",
       "        <td>2007</td>\n",
       "        <td></td>\n",
       "        <td></td>\n",
       "        <td></td>\n",
       "    </tr>\n",
       "    <tr>\n",
       "        <td>ADO</td>\n",
       "        <td>Andorra</td>\n",
       "        <td>Andorra</td>\n",
       "        <td>Principality of Andorra</td>\n",
       "        <td>AD</td>\n",
       "        <td>Euro</td>\n",
       "        <td></td>\n",
       "        <td>Europe &amp; Central Asia</td>\n",
       "        <td>High income: nonOECD</td>\n",
       "        <td>AD</td>\n",
       "        <td>2000</td>\n",
       "        <td></td>\n",
       "        <td>Value added at basic prices (VAB)</td>\n",
       "        <td></td>\n",
       "        <td></td>\n",
       "        <td>Country uses the 1968 System of National Accounts methodology.</td>\n",
       "        <td></td>\n",
       "        <td></td>\n",
       "        <td></td>\n",
       "        <td></td>\n",
       "        <td>Special trade system</td>\n",
       "        <td></td>\n",
       "        <td></td>\n",
       "        <td>2011. Population data compiled from administrative registers.</td>\n",
       "        <td></td>\n",
       "        <td></td>\n",
       "        <td>Yes</td>\n",
       "        <td></td>\n",
       "        <td></td>\n",
       "        <td>2006</td>\n",
       "        <td></td>\n",
       "    </tr>\n",
       "</table>"
      ],
      "text/plain": [
       "[('AFG', 'Afghanistan', 'Afghanistan', 'Islamic State of Afghanistan', 'AF', 'Afghan afghani', 'Fiscal year end: March 20; reporting period for national accounts data: FY (from 2013 are CY). National accounts data are sourced from the IMF and differ from the Central Statistics Organization numbers due to exclusion of the opium economy.', 'South Asia', 'Low income', 'AF', '2002/03', '', 'Value added at basic prices (VAB)', 'IDA', 'HIPC', 'Country uses the 1993 System of National Accounts methodology.', '', '', '', 'Actual', 'General trade system', 'Consolidated central government', 'General Data Dissemination System (GDDS)', '1979', 'Multiple Indicator Cluster Survey (MICS), 2010/11', 'Integrated household survey (IHS), 2008', '', '2013/14', '', 2013, 2000),\n",
       " ('ALB', 'Albania', 'Albania', 'Republic of Albania', 'AL', 'Albanian lek', '', 'Europe & Central Asia', 'Upper middle income', 'AL', 'Original chained constant price data are rescaled.', '1996', 'Value added at basic prices (VAB)', 'IBRD', '', 'Country uses the 1993 System of National Accounts methodology.', '', 'Rolling', 'IMF Balance of Payments Manual, 6th edition.', 'Actual', 'General trade system', 'Budgetary central government', 'General Data Dissemination System (GDDS)', '2011', 'Demographic and Health Survey (DHS), 2008/09', 'Living Standards Measurement Study Survey (LSMS), 2011/12', 'Yes', '2012', 2011, 2013, 2006),\n",
       " ('DZA', 'Algeria', 'Algeria', \"People's Democratic Republic of Algeria\", 'DZ', 'Algerian dinar', '', 'Middle East & North Africa', 'Upper middle income', 'DZ', '1980', '', 'Value added at basic prices (VAB)', 'IBRD', '', 'Country uses the 1968 System of National Accounts methodology.', '', '2011', 'IMF Balance of Payments Manual, 6th edition.', 'Actual', 'Special trade system', 'Budgetary central government', 'General Data Dissemination System (GDDS)', '2008', 'Multiple Indicator Cluster Survey (MICS), 2012', 'Integrated household survey (IHS), 1995', '', '', 2010, 2013, 2001),\n",
       " ('ASM', 'American Samoa', 'American Samoa', 'American Samoa', 'AS', 'U.S. dollar', '', 'East Asia & Pacific', 'Upper middle income', 'AS', '', '', '', '', '', 'Country uses the 1968 System of National Accounts methodology.', '', '2011 (household consumption only).', '', '', 'Special trade system', '', '', '2010', '', '', 'Yes', '2007', '', '', ''),\n",
       " ('ADO', 'Andorra', 'Andorra', 'Principality of Andorra', 'AD', 'Euro', '', 'Europe & Central Asia', 'High income: nonOECD', 'AD', '2000', '', 'Value added at basic prices (VAB)', '', '', 'Country uses the 1968 System of National Accounts methodology.', '', '', '', '', 'Special trade system', '', '', '2011. Population data compiled from administrative registers.', '', '', 'Yes', '', '', 2006, '')]"
      ]
     },
     "execution_count": 3,
     "metadata": {},
     "output_type": "execute_result"
    }
   ],
   "source": [
    "%%sql\n",
    "\n",
    "SELECT *\n",
    "    FROM Country\n",
    "    LIMIT 5"
   ]
  },
  {
   "cell_type": "code",
   "execution_count": 4,
   "id": "07feeba3",
   "metadata": {},
   "outputs": [
    {
     "name": "stdout",
     "output_type": "stream",
     "text": [
      " * sqlite:///indicators.sqlite\n",
      "Done.\n"
     ]
    },
    {
     "data": {
      "text/html": [
       "<table>\n",
       "    <tr>\n",
       "        <th>Region</th>\n",
       "        <th>count(distinct TableName)</th>\n",
       "    </tr>\n",
       "    <tr>\n",
       "        <td>Europe &amp; Central Asia</td>\n",
       "        <td>57</td>\n",
       "    </tr>\n",
       "    <tr>\n",
       "        <td>Sub-Saharan Africa</td>\n",
       "        <td>48</td>\n",
       "    </tr>\n",
       "    <tr>\n",
       "        <td>Latin America &amp; Caribbean</td>\n",
       "        <td>41</td>\n",
       "    </tr>\n",
       "    <tr>\n",
       "        <td>East Asia &amp; Pacific</td>\n",
       "        <td>36</td>\n",
       "    </tr>\n",
       "    <tr>\n",
       "        <td></td>\n",
       "        <td>33</td>\n",
       "    </tr>\n",
       "    <tr>\n",
       "        <td>Middle East &amp; North Africa</td>\n",
       "        <td>21</td>\n",
       "    </tr>\n",
       "    <tr>\n",
       "        <td>South Asia</td>\n",
       "        <td>8</td>\n",
       "    </tr>\n",
       "    <tr>\n",
       "        <td>North America</td>\n",
       "        <td>3</td>\n",
       "    </tr>\n",
       "</table>"
      ],
      "text/plain": [
       "[('Europe & Central Asia', 57),\n",
       " ('Sub-Saharan Africa', 48),\n",
       " ('Latin America & Caribbean', 41),\n",
       " ('East Asia & Pacific', 36),\n",
       " ('', 33),\n",
       " ('Middle East & North Africa', 21),\n",
       " ('South Asia', 8),\n",
       " ('North America', 3)]"
      ]
     },
     "execution_count": 4,
     "metadata": {},
     "output_type": "execute_result"
    }
   ],
   "source": [
    "%%sql\n",
    "\n",
    "SELECT Region, count(distinct TableName)\n",
    "    FROM Country\n",
    "GROUP BY 1 \n",
    "ORDER BY 2 DESC"
   ]
  },
  {
   "cell_type": "markdown",
   "id": "7f676e82",
   "metadata": {},
   "source": [
    "There's seems to be a `Region` that's missing a label, let's investigate what's in there."
   ]
  },
  {
   "cell_type": "code",
   "execution_count": 5,
   "id": "b96b19d8",
   "metadata": {},
   "outputs": [
    {
     "name": "stdout",
     "output_type": "stream",
     "text": [
      " * sqlite:///indicators.sqlite\n",
      "Done.\n"
     ]
    },
    {
     "data": {
      "text/html": [
       "<table>\n",
       "    <tr>\n",
       "        <th>TableName</th>\n",
       "    </tr>\n",
       "    <tr>\n",
       "        <td>Arab World</td>\n",
       "    </tr>\n",
       "    <tr>\n",
       "        <td>Caribbean small states</td>\n",
       "    </tr>\n",
       "    <tr>\n",
       "        <td>Central Europe and the Baltics</td>\n",
       "    </tr>\n",
       "    <tr>\n",
       "        <td>East Asia &amp; Pacific (all income levels)</td>\n",
       "    </tr>\n",
       "    <tr>\n",
       "        <td>East Asia &amp; Pacific</td>\n",
       "    </tr>\n",
       "    <tr>\n",
       "        <td>Euro area</td>\n",
       "    </tr>\n",
       "    <tr>\n",
       "        <td>Europe &amp; Central Asia (all income levels)</td>\n",
       "    </tr>\n",
       "    <tr>\n",
       "        <td>Europe &amp; Central Asia</td>\n",
       "    </tr>\n",
       "    <tr>\n",
       "        <td>European Union</td>\n",
       "    </tr>\n",
       "    <tr>\n",
       "        <td>Fragile and conflict affected situations</td>\n",
       "    </tr>\n",
       "    <tr>\n",
       "        <td>Heavily indebted poor countries (HIPC)</td>\n",
       "    </tr>\n",
       "    <tr>\n",
       "        <td>High income</td>\n",
       "    </tr>\n",
       "    <tr>\n",
       "        <td>High income: nonOECD</td>\n",
       "    </tr>\n",
       "    <tr>\n",
       "        <td>High income: OECD</td>\n",
       "    </tr>\n",
       "    <tr>\n",
       "        <td>Latin America &amp; Caribbean (all income levels)</td>\n",
       "    </tr>\n",
       "    <tr>\n",
       "        <td>Latin America &amp; Caribbean</td>\n",
       "    </tr>\n",
       "    <tr>\n",
       "        <td>Least developed countries: UN classification</td>\n",
       "    </tr>\n",
       "    <tr>\n",
       "        <td>Low &amp; middle income</td>\n",
       "    </tr>\n",
       "    <tr>\n",
       "        <td>Low income</td>\n",
       "    </tr>\n",
       "    <tr>\n",
       "        <td>Lower middle income</td>\n",
       "    </tr>\n",
       "    <tr>\n",
       "        <td>Middle East &amp; North Africa (all income levels)</td>\n",
       "    </tr>\n",
       "    <tr>\n",
       "        <td>Middle East &amp; North Africa</td>\n",
       "    </tr>\n",
       "    <tr>\n",
       "        <td>Middle income</td>\n",
       "    </tr>\n",
       "    <tr>\n",
       "        <td>North America</td>\n",
       "    </tr>\n",
       "    <tr>\n",
       "        <td>OECD members</td>\n",
       "    </tr>\n",
       "    <tr>\n",
       "        <td>Other small states</td>\n",
       "    </tr>\n",
       "    <tr>\n",
       "        <td>Pacific island small states</td>\n",
       "    </tr>\n",
       "    <tr>\n",
       "        <td>Small states</td>\n",
       "    </tr>\n",
       "    <tr>\n",
       "        <td>South Asia</td>\n",
       "    </tr>\n",
       "    <tr>\n",
       "        <td>Sub-Saharan Africa (all income levels)</td>\n",
       "    </tr>\n",
       "    <tr>\n",
       "        <td>Sub-Saharan Africa</td>\n",
       "    </tr>\n",
       "    <tr>\n",
       "        <td>Upper middle income</td>\n",
       "    </tr>\n",
       "    <tr>\n",
       "        <td>World</td>\n",
       "    </tr>\n",
       "</table>"
      ],
      "text/plain": [
       "[('Arab World',),\n",
       " ('Caribbean small states',),\n",
       " ('Central Europe and the Baltics',),\n",
       " ('East Asia & Pacific (all income levels)',),\n",
       " ('East Asia & Pacific',),\n",
       " ('Euro area',),\n",
       " ('Europe & Central Asia (all income levels)',),\n",
       " ('Europe & Central Asia',),\n",
       " ('European Union',),\n",
       " ('Fragile and conflict affected situations',),\n",
       " ('Heavily indebted poor countries (HIPC)',),\n",
       " ('High income',),\n",
       " ('High income: nonOECD',),\n",
       " ('High income: OECD',),\n",
       " ('Latin America & Caribbean (all income levels)',),\n",
       " ('Latin America & Caribbean',),\n",
       " ('Least developed countries: UN classification',),\n",
       " ('Low & middle income',),\n",
       " ('Low income',),\n",
       " ('Lower middle income',),\n",
       " ('Middle East & North Africa (all income levels)',),\n",
       " ('Middle East & North Africa',),\n",
       " ('Middle income',),\n",
       " ('North America',),\n",
       " ('OECD members',),\n",
       " ('Other small states',),\n",
       " ('Pacific island small states',),\n",
       " ('Small states',),\n",
       " ('South Asia',),\n",
       " ('Sub-Saharan Africa (all income levels)',),\n",
       " ('Sub-Saharan Africa',),\n",
       " ('Upper middle income',),\n",
       " ('World',)]"
      ]
     },
     "execution_count": 5,
     "metadata": {},
     "output_type": "execute_result"
    }
   ],
   "source": [
    "%%sql\n",
    "\n",
    "SELECT distinct TableName\n",
    "    FROM Country\n",
    "WHERE Region=''"
   ]
  },
  {
   "cell_type": "markdown",
   "id": "f6726715",
   "metadata": {},
   "source": [
    "There are different aggregations of countries (World, Lower middle income, European Union, etc.) under the unlabeled `Region`. This might be useful later in our analysis."
   ]
  },
  {
   "cell_type": "code",
   "execution_count": 6,
   "id": "69fd8d99",
   "metadata": {},
   "outputs": [
    {
     "name": "stdout",
     "output_type": "stream",
     "text": [
      " * sqlite:///indicators.sqlite\n",
      "Done.\n"
     ]
    },
    {
     "data": {
      "text/html": [
       "<table>\n",
       "    <tr>\n",
       "        <th>count(distinct IndicatorName)</th>\n",
       "    </tr>\n",
       "    <tr>\n",
       "        <td>1344</td>\n",
       "    </tr>\n",
       "</table>"
      ],
      "text/plain": [
       "[(1344,)]"
      ]
     },
     "execution_count": 6,
     "metadata": {},
     "output_type": "execute_result"
    }
   ],
   "source": [
    "%%sql\n",
    "\n",
    "\n",
    "    SELECT count(distinct IndicatorName)\n",
    "FROM Indicators \n"
   ]
  },
  {
   "cell_type": "markdown",
   "id": "2f174933",
   "metadata": {},
   "source": [
    "There are 1344 different indicators in the `Indicators` table. For the sake of readability it's best to not display them all here. As previously mentioned, the full list of indicators is available [here](https://data.worldbank.org/indicator?tab=all).\n",
    "\n",
    "Let's begin by exploring the ones that relate to **population growth**."
   ]
  },
  {
   "cell_type": "markdown",
   "id": "1a36ba1e",
   "metadata": {},
   "source": [
    "### Population growth"
   ]
  },
  {
   "cell_type": "code",
   "execution_count": 7,
   "id": "e41f3e2c",
   "metadata": {},
   "outputs": [
    {
     "name": "stdout",
     "output_type": "stream",
     "text": [
      " * sqlite:///indicators.sqlite\n",
      "Done.\n"
     ]
    },
    {
     "data": {
      "text/html": [
       "<table>\n",
       "    <tr>\n",
       "        <th>IndicatorName</th>\n",
       "        <th>IndicatorCode</th>\n",
       "    </tr>\n",
       "    <tr>\n",
       "        <td>Annualized average growth rate in per capita real survey mean consumption or income, bottom 40% of population (%)</td>\n",
       "        <td>SI.SPR.PC40.ZG</td>\n",
       "    </tr>\n",
       "    <tr>\n",
       "        <td>Annualized average growth rate in per capita real survey mean consumption or income, total population (%)</td>\n",
       "        <td>SI.SPR.PCAP.ZG</td>\n",
       "    </tr>\n",
       "    <tr>\n",
       "        <td>Population growth (annual %)</td>\n",
       "        <td>SP.POP.GROW</td>\n",
       "    </tr>\n",
       "    <tr>\n",
       "        <td>Rural population growth (annual %)</td>\n",
       "        <td>SP.RUR.TOTL.ZG</td>\n",
       "    </tr>\n",
       "    <tr>\n",
       "        <td>Urban population growth (annual %)</td>\n",
       "        <td>SP.URB.GROW</td>\n",
       "    </tr>\n",
       "</table>"
      ],
      "text/plain": [
       "[('Annualized average growth rate in per capita real survey mean consumption or income, bottom 40% of population (%)', 'SI.SPR.PC40.ZG'),\n",
       " ('Annualized average growth rate in per capita real survey mean consumption or income, total population (%)', 'SI.SPR.PCAP.ZG'),\n",
       " ('Population growth (annual %)', 'SP.POP.GROW'),\n",
       " ('Rural population growth (annual %)', 'SP.RUR.TOTL.ZG'),\n",
       " ('Urban population growth (annual %)', 'SP.URB.GROW')]"
      ]
     },
     "execution_count": 7,
     "metadata": {},
     "output_type": "execute_result"
    }
   ],
   "source": [
    "%%sql\n",
    "\n",
    "SELECT distinct IndicatorName, IndicatorCode\n",
    "    FROM indicators\n",
    "    WHERE lower(IndicatorName) like '%population%' and lower(IndicatorName) like '%growth%'"
   ]
  },
  {
   "cell_type": "markdown",
   "id": "20034214",
   "metadata": {},
   "source": [
    "Let's find the **average annual % of population growth** for each region in the **first** and **last year** of the dataset. "
   ]
  },
  {
   "cell_type": "code",
   "execution_count": 8,
   "id": "ad773e00",
   "metadata": {},
   "outputs": [
    {
     "name": "stdout",
     "output_type": "stream",
     "text": [
      " * sqlite:///indicators.sqlite\n",
      "Done.\n"
     ]
    },
    {
     "data": {
      "text/html": [
       "<table>\n",
       "    <tr>\n",
       "        <th>min(Year)</th>\n",
       "        <th>max(Year)</th>\n",
       "    </tr>\n",
       "    <tr>\n",
       "        <td>1960</td>\n",
       "        <td>2014</td>\n",
       "    </tr>\n",
       "</table>"
      ],
      "text/plain": [
       "[(1960, 2014)]"
      ]
     },
     "execution_count": 8,
     "metadata": {},
     "output_type": "execute_result"
    }
   ],
   "source": [
    "%%sql\n",
    "\n",
    "SELECT min(Year), max(Year)\n",
    "FROM Indicators \n",
    "WHERE IndicatorName='Population growth (annual %)'\n",
    "AND Value is not null"
   ]
  },
  {
   "cell_type": "code",
   "execution_count": 9,
   "id": "5d715e70",
   "metadata": {},
   "outputs": [
    {
     "name": "stdout",
     "output_type": "stream",
     "text": [
      " * sqlite:///indicators.sqlite\n",
      "Done.\n"
     ]
    },
    {
     "data": {
      "text/html": [
       "<table>\n",
       "    <tr>\n",
       "        <th>Region</th>\n",
       "        <th>avg_pop_growth_1960</th>\n",
       "        <th>avg_pop_growth_2014</th>\n",
       "    </tr>\n",
       "    <tr>\n",
       "        <td>Middle East &amp; North Africa</td>\n",
       "        <td>3.780201152913741</td>\n",
       "        <td>2.139176439837713</td>\n",
       "    </tr>\n",
       "    <tr>\n",
       "        <td>East Asia &amp; Pacific</td>\n",
       "        <td>2.677892617800957</td>\n",
       "        <td>1.1398734361736846</td>\n",
       "    </tr>\n",
       "    <tr>\n",
       "        <td>Latin America &amp; Caribbean</td>\n",
       "        <td>2.351085690872689</td>\n",
       "        <td>0.9647484633748492</td>\n",
       "    </tr>\n",
       "    <tr>\n",
       "        <td>South Asia</td>\n",
       "        <td>2.2612439102671047</td>\n",
       "        <td>1.6162547934178277</td>\n",
       "    </tr>\n",
       "    <tr>\n",
       "        <td>Sub-Saharan Africa</td>\n",
       "        <td>2.1580339120058922</td>\n",
       "        <td>2.5284050617564304</td>\n",
       "    </tr>\n",
       "    <tr>\n",
       "        <td>North America</td>\n",
       "        <td>1.7870752166673736</td>\n",
       "        <td>0.7002142257910567</td>\n",
       "    </tr>\n",
       "    <tr>\n",
       "        <td>Europe &amp; Central Asia</td>\n",
       "        <td>1.666259013801305</td>\n",
       "        <td>0.30974567864718655</td>\n",
       "    </tr>\n",
       "</table>"
      ],
      "text/plain": [
       "[('Middle East & North Africa', 3.780201152913741, 2.139176439837713),\n",
       " ('East Asia & Pacific', 2.677892617800957, 1.1398734361736846),\n",
       " ('Latin America & Caribbean', 2.351085690872689, 0.9647484633748492),\n",
       " ('South Asia', 2.2612439102671047, 1.6162547934178277),\n",
       " ('Sub-Saharan Africa', 2.1580339120058922, 2.5284050617564304),\n",
       " ('North America', 1.7870752166673736, 0.7002142257910567),\n",
       " ('Europe & Central Asia', 1.666259013801305, 0.30974567864718655)]"
      ]
     },
     "execution_count": 9,
     "metadata": {},
     "output_type": "execute_result"
    }
   ],
   "source": [
    "%%sql\n",
    "\n",
    "with avg_1960 as (\n",
    "    SELECT Year, Region, AVG(Value) as avg_pop_growth_1960\n",
    "FROM Indicators i\n",
    "INNER JOIN Country c\n",
    "ON i.CountryCode=c.CountryCode\n",
    "AND IndicatorName='Population growth (annual %)'\n",
    "AND Year='1960'\n",
    "GROUP BY 1, 2\n",
    "ORDER BY 3 DESC)\n",
    ",\n",
    "\n",
    "avg_2014 as (\n",
    "    SELECT Year, Region, AVG(Value) as avg_pop_growth_2014\n",
    "FROM Indicators i\n",
    "INNER JOIN Country c\n",
    "ON i.CountryCode=c.CountryCode\n",
    "AND IndicatorName='Population growth (annual %)'\n",
    "AND Year='2014'\n",
    "GROUP BY 1, 2\n",
    "ORDER BY 3 DESC)\n",
    "\n",
    "SELECT a.region, avg_pop_growth_1960, avg_pop_growth_2014\n",
    "FROM avg_1960 a\n",
    "LEFT JOIN avg_2014 b\n",
    "ON a.Region=b.Region\n"
   ]
  },
  {
   "cell_type": "markdown",
   "id": "7b083d46",
   "metadata": {},
   "source": [
    "How much did the annual % of Population growth change from 1960 to 2014?"
   ]
  },
  {
   "cell_type": "code",
   "execution_count": 10,
   "id": "d6be6afe",
   "metadata": {},
   "outputs": [
    {
     "name": "stdout",
     "output_type": "stream",
     "text": [
      " * sqlite:///indicators.sqlite\n",
      "Done.\n"
     ]
    },
    {
     "data": {
      "text/html": [
       "<table>\n",
       "    <tr>\n",
       "        <th>Region</th>\n",
       "        <th>avg_pop_growth_1960</th>\n",
       "        <th>avg_pop_growth_2014</th>\n",
       "        <th>change</th>\n",
       "    </tr>\n",
       "    <tr>\n",
       "        <td>Sub-Saharan Africa</td>\n",
       "        <td>2.1580339120058922</td>\n",
       "        <td>2.5284050617564304</td>\n",
       "        <td>0.3703711497505382</td>\n",
       "    </tr>\n",
       "    <tr>\n",
       "        <td>South Asia</td>\n",
       "        <td>2.2612439102671047</td>\n",
       "        <td>1.6162547934178277</td>\n",
       "        <td>-0.644989116849277</td>\n",
       "    </tr>\n",
       "    <tr>\n",
       "        <td>North America</td>\n",
       "        <td>1.7870752166673736</td>\n",
       "        <td>0.7002142257910567</td>\n",
       "        <td>-1.0868609908763167</td>\n",
       "    </tr>\n",
       "    <tr>\n",
       "        <td>Europe &amp; Central Asia</td>\n",
       "        <td>1.666259013801305</td>\n",
       "        <td>0.30974567864718655</td>\n",
       "        <td>-1.3565133351541183</td>\n",
       "    </tr>\n",
       "    <tr>\n",
       "        <td>Latin America &amp; Caribbean</td>\n",
       "        <td>2.351085690872689</td>\n",
       "        <td>0.9647484633748492</td>\n",
       "        <td>-1.3863372274978398</td>\n",
       "    </tr>\n",
       "    <tr>\n",
       "        <td>East Asia &amp; Pacific</td>\n",
       "        <td>2.677892617800957</td>\n",
       "        <td>1.1398734361736846</td>\n",
       "        <td>-1.5380191816272724</td>\n",
       "    </tr>\n",
       "    <tr>\n",
       "        <td>Middle East &amp; North Africa</td>\n",
       "        <td>3.780201152913741</td>\n",
       "        <td>2.139176439837713</td>\n",
       "        <td>-1.6410247130760283</td>\n",
       "    </tr>\n",
       "</table>"
      ],
      "text/plain": [
       "[('Sub-Saharan Africa', 2.1580339120058922, 2.5284050617564304, 0.3703711497505382),\n",
       " ('South Asia', 2.2612439102671047, 1.6162547934178277, -0.644989116849277),\n",
       " ('North America', 1.7870752166673736, 0.7002142257910567, -1.0868609908763167),\n",
       " ('Europe & Central Asia', 1.666259013801305, 0.30974567864718655, -1.3565133351541183),\n",
       " ('Latin America & Caribbean', 2.351085690872689, 0.9647484633748492, -1.3863372274978398),\n",
       " ('East Asia & Pacific', 2.677892617800957, 1.1398734361736846, -1.5380191816272724),\n",
       " ('Middle East & North Africa', 3.780201152913741, 2.139176439837713, -1.6410247130760283)]"
      ]
     },
     "execution_count": 10,
     "metadata": {},
     "output_type": "execute_result"
    }
   ],
   "source": [
    "%%sql\n",
    "\n",
    "with avg_1960 as (\n",
    "    SELECT Year, Region, AVG(Value) as avg_pop_growth_1960\n",
    "FROM Indicators i\n",
    "INNER JOIN Country c\n",
    "ON i.CountryCode=c.CountryCode\n",
    "AND IndicatorName='Population growth (annual %)'\n",
    "AND Year='1960'\n",
    "GROUP BY 1, 2\n",
    "ORDER BY 3 DESC)\n",
    ",\n",
    "\n",
    "avg_2014 as (\n",
    "    SELECT Year, Region, AVG(Value) as avg_pop_growth_2014\n",
    "FROM Indicators i\n",
    "INNER JOIN Country c\n",
    "ON i.CountryCode=c.CountryCode\n",
    "AND IndicatorName='Population growth (annual %)'\n",
    "AND Year='2014'\n",
    "GROUP BY 1, 2\n",
    "ORDER BY 3 DESC)\n",
    "\n",
    "SELECT a.Region, avg_pop_growth_1960, avg_pop_growth_2014, avg_pop_growth_2014-avg_pop_growth_1960 as change\n",
    "FROM avg_1960 a\n",
    "LEFT JOIN avg_2014 b\n",
    "ON a.Region=b.Region\n",
    "ORDER BY 4 DESC\n",
    "\n"
   ]
  },
  {
   "cell_type": "markdown",
   "id": "1bcce04c",
   "metadata": {},
   "source": [
    "All regions have suffered a **decrease** in their annual % of population growth except for Sub-Saharan Africa, with actually saw that number grow 0.37%. The highest drop in the annual % of Population growth between 1960 and 2014 occured for Middle East & North Africa, followed by East Asia & Pacific."
   ]
  },
  {
   "cell_type": "code",
   "execution_count": 11,
   "id": "7b563256",
   "metadata": {},
   "outputs": [
    {
     "name": "stdout",
     "output_type": "stream",
     "text": [
      " * sqlite:///indicators.sqlite\n",
      "Done.\n"
     ]
    },
    {
     "data": {
      "text/html": [
       "<table>\n",
       "    <tr>\n",
       "        <th>IndicatorName</th>\n",
       "    </tr>\n",
       "    <tr>\n",
       "        <td>Maternal mortality ratio (modeled estimate, per 100,000 live births)</td>\n",
       "    </tr>\n",
       "    <tr>\n",
       "        <td>Maternal mortality ratio (national estimate, per 100,000 live births)</td>\n",
       "    </tr>\n",
       "    <tr>\n",
       "        <td>Mortality rate, adult, female (per 1,000 female adults)</td>\n",
       "    </tr>\n",
       "    <tr>\n",
       "        <td>Mortality rate, adult, male (per 1,000 male adults)</td>\n",
       "    </tr>\n",
       "    <tr>\n",
       "        <td>Mortality rate, infant (per 1,000 live births)</td>\n",
       "    </tr>\n",
       "    <tr>\n",
       "        <td>Mortality rate, infant, female (per 1,000 live births)</td>\n",
       "    </tr>\n",
       "    <tr>\n",
       "        <td>Mortality rate, infant, male (per 1,000 live births)</td>\n",
       "    </tr>\n",
       "    <tr>\n",
       "        <td>Mortality rate, neonatal (per 1,000 live births)</td>\n",
       "    </tr>\n",
       "    <tr>\n",
       "        <td>Mortality rate, under-5 (per 1,000)</td>\n",
       "    </tr>\n",
       "    <tr>\n",
       "        <td>Mortality rate, under-5, female (per 1,000 live births)</td>\n",
       "    </tr>\n",
       "    <tr>\n",
       "        <td>Mortality rate, under-5, male (per 1,000 live births)</td>\n",
       "    </tr>\n",
       "</table>"
      ],
      "text/plain": [
       "[('Maternal mortality ratio (modeled estimate, per 100,000 live births)',),\n",
       " ('Maternal mortality ratio (national estimate, per 100,000 live births)',),\n",
       " ('Mortality rate, adult, female (per 1,000 female adults)',),\n",
       " ('Mortality rate, adult, male (per 1,000 male adults)',),\n",
       " ('Mortality rate, infant (per 1,000 live births)',),\n",
       " ('Mortality rate, infant, female (per 1,000 live births)',),\n",
       " ('Mortality rate, infant, male (per 1,000 live births)',),\n",
       " ('Mortality rate, neonatal (per 1,000 live births)',),\n",
       " ('Mortality rate, under-5 (per 1,000)',),\n",
       " ('Mortality rate, under-5, female (per 1,000 live births)',),\n",
       " ('Mortality rate, under-5, male (per 1,000 live births)',)]"
      ]
     },
     "execution_count": 11,
     "metadata": {},
     "output_type": "execute_result"
    }
   ],
   "source": [
    "%%sql\n",
    "\n",
    "\n",
    "    SELECT distinct IndicatorName\n",
    "FROM Indicators \n",
    "WHERE lower(IndicatorName) like '%mortality%'\n"
   ]
  },
  {
   "cell_type": "markdown",
   "id": "068a7eb0",
   "metadata": {},
   "source": [
    "According to the [Pew Research Centre](https://www.pewresearch.org/religion/2015/04/02/main-factors-driving-population-growth/#:~:text=When%20demographers%20attempt%20to%20forecast,to%20begin%20with), the size of a population typically depends on four main factors: \n",
    "- Fertility rates\n",
    "- Mortality rates (life expectancy)\n",
    "- The initial age profile of the population (whether it is relatively old or relatively young to begin with)\n",
    "- Migration\n",
    "\n",
    "Let's explore indicators on mortality to determine whether they correlate with population growth."
   ]
  },
  {
   "cell_type": "markdown",
   "id": "d6ee45cc",
   "metadata": {},
   "source": [
    "### Mortality"
   ]
  },
  {
   "cell_type": "code",
   "execution_count": 12,
   "id": "e2fe81d6",
   "metadata": {},
   "outputs": [
    {
     "name": "stdout",
     "output_type": "stream",
     "text": [
      " * sqlite:///indicators.sqlite\n",
      "Done.\n"
     ]
    },
    {
     "data": {
      "text/html": [
       "<table>\n",
       "    <tr>\n",
       "        <th>min(Year)</th>\n",
       "        <th>max(Year)</th>\n",
       "    </tr>\n",
       "    <tr>\n",
       "        <td>1960</td>\n",
       "        <td>2015</td>\n",
       "    </tr>\n",
       "</table>"
      ],
      "text/plain": [
       "[(1960, 2015)]"
      ]
     },
     "execution_count": 12,
     "metadata": {},
     "output_type": "execute_result"
    }
   ],
   "source": [
    "%%sql\n",
    "\n",
    "\n",
    "    SELECT min(Year), max(Year)\n",
    "FROM Indicators \n",
    "WHERE IndicatorName='Mortality rate, under-5 (per 1,000)'\n",
    "AND Value is not null\n"
   ]
  },
  {
   "cell_type": "markdown",
   "id": "fb99901b",
   "metadata": {},
   "source": [
    "What year represented the highest mortality rate for children under 5 for each region?"
   ]
  },
  {
   "cell_type": "code",
   "execution_count": 13,
   "id": "b6d842e7",
   "metadata": {},
   "outputs": [
    {
     "name": "stdout",
     "output_type": "stream",
     "text": [
      " * sqlite:///indicators.sqlite\n",
      "Done.\n"
     ]
    },
    {
     "data": {
      "text/html": [
       "<table>\n",
       "    <tr>\n",
       "        <th>Region</th>\n",
       "        <th>Year</th>\n",
       "        <th>MAX(avg_mortality_rate_under5)</th>\n",
       "    </tr>\n",
       "    <tr>\n",
       "        <td>East Asia &amp; Pacific</td>\n",
       "        <td>1960</td>\n",
       "        <td>112.45714285714287</td>\n",
       "    </tr>\n",
       "    <tr>\n",
       "        <td>Europe &amp; Central Asia</td>\n",
       "        <td>1960</td>\n",
       "        <td>51.6</td>\n",
       "    </tr>\n",
       "    <tr>\n",
       "        <td>Latin America &amp; Caribbean</td>\n",
       "        <td>1960</td>\n",
       "        <td>152.17142857142858</td>\n",
       "    </tr>\n",
       "    <tr>\n",
       "        <td>North America</td>\n",
       "        <td>1960</td>\n",
       "        <td>31.35</td>\n",
       "    </tr>\n",
       "    <tr>\n",
       "        <td>Middle East &amp; North Africa</td>\n",
       "        <td>1963</td>\n",
       "        <td>198.21333333333334</td>\n",
       "    </tr>\n",
       "    <tr>\n",
       "        <td>South Asia</td>\n",
       "        <td>1963</td>\n",
       "        <td>254.8714285714286</td>\n",
       "    </tr>\n",
       "    <tr>\n",
       "        <td>Sub-Saharan Africa</td>\n",
       "        <td>1964</td>\n",
       "        <td>244.6166666666667</td>\n",
       "    </tr>\n",
       "</table>"
      ],
      "text/plain": [
       "[('East Asia & Pacific', 1960, 112.45714285714287),\n",
       " ('Europe & Central Asia', 1960, 51.6),\n",
       " ('Latin America & Caribbean', 1960, 152.17142857142858),\n",
       " ('North America', 1960, 31.35),\n",
       " ('Middle East & North Africa', 1963, 198.21333333333334),\n",
       " ('South Asia', 1963, 254.8714285714286),\n",
       " ('Sub-Saharan Africa', 1964, 244.6166666666667)]"
      ]
     },
     "execution_count": 13,
     "metadata": {},
     "output_type": "execute_result"
    }
   ],
   "source": [
    "%%sql\n",
    "\n",
    "with all_averages as (SELECT Region, Year, AVG(Value) as avg_mortality_rate_under5\n",
    "FROM Indicators i\n",
    "INNER JOIN Country c\n",
    "ON i.CountryCode=c.CountryCode\n",
    "AND IndicatorName='Mortality rate, under-5 (per 1,000)'\n",
    "AND Region!=''\n",
    "GROUP BY 1, 2)\n",
    "\n",
    "SELECT Region, Year, MAX(avg_mortality_rate_under5)\n",
    "FROM all_averages \n",
    "GROUP BY 1\n",
    "ORDER BY 2"
   ]
  },
  {
   "cell_type": "markdown",
   "id": "205d4613",
   "metadata": {},
   "source": [
    "For all regions, the years with highest mortality rate for children under 5 were in the 60s, which indicates that this issue has improved over time. Let's compare the values in 1960 to 2014."
   ]
  },
  {
   "cell_type": "code",
   "execution_count": 14,
   "id": "78b2379f",
   "metadata": {
    "scrolled": true
   },
   "outputs": [
    {
     "name": "stdout",
     "output_type": "stream",
     "text": [
      " * sqlite:///indicators.sqlite\n",
      "Done.\n"
     ]
    },
    {
     "data": {
      "text/html": [
       "<table>\n",
       "    <tr>\n",
       "        <th>Region</th>\n",
       "        <th>avg_mortality_rate_under5_1960</th>\n",
       "        <th>avg_mortality_rate_under5_2014</th>\n",
       "        <th>change</th>\n",
       "    </tr>\n",
       "    <tr>\n",
       "        <td>North America</td>\n",
       "        <td>31.35</td>\n",
       "        <td>5.85</td>\n",
       "        <td>-25.5</td>\n",
       "    </tr>\n",
       "    <tr>\n",
       "        <td>Europe &amp; Central Asia</td>\n",
       "        <td>51.6</td>\n",
       "        <td>9.313725490196076</td>\n",
       "        <td>-42.286274509803924</td>\n",
       "    </tr>\n",
       "    <tr>\n",
       "        <td>East Asia &amp; Pacific</td>\n",
       "        <td>112.45714285714287</td>\n",
       "        <td>25.66206896551724</td>\n",
       "        <td>-86.79507389162563</td>\n",
       "    </tr>\n",
       "    <tr>\n",
       "        <td>Latin America &amp; Caribbean</td>\n",
       "        <td>152.17142857142858</td>\n",
       "        <td>19.67878787878788</td>\n",
       "        <td>-132.4926406926407</td>\n",
       "    </tr>\n",
       "    <tr>\n",
       "        <td>Sub-Saharan Africa</td>\n",
       "        <td>241.556</td>\n",
       "        <td>77.17083333333333</td>\n",
       "        <td>-164.3851666666667</td>\n",
       "    </tr>\n",
       "    <tr>\n",
       "        <td>Middle East &amp; North Africa</td>\n",
       "        <td>190.13333333333335</td>\n",
       "        <td>18.990476190476194</td>\n",
       "        <td>-171.14285714285717</td>\n",
       "    </tr>\n",
       "    <tr>\n",
       "        <td>South Asia</td>\n",
       "        <td>240.42</td>\n",
       "        <td>44.6875</td>\n",
       "        <td>-195.7325</td>\n",
       "    </tr>\n",
       "</table>"
      ],
      "text/plain": [
       "[('North America', 31.35, 5.85, -25.5),\n",
       " ('Europe & Central Asia', 51.6, 9.313725490196076, -42.286274509803924),\n",
       " ('East Asia & Pacific', 112.45714285714287, 25.66206896551724, -86.79507389162563),\n",
       " ('Latin America & Caribbean', 152.17142857142858, 19.67878787878788, -132.4926406926407),\n",
       " ('Sub-Saharan Africa', 241.556, 77.17083333333333, -164.3851666666667),\n",
       " ('Middle East & North Africa', 190.13333333333335, 18.990476190476194, -171.14285714285717),\n",
       " ('South Asia', 240.42, 44.6875, -195.7325)]"
      ]
     },
     "execution_count": 14,
     "metadata": {},
     "output_type": "execute_result"
    }
   ],
   "source": [
    "%%sql\n",
    "\n",
    "with avg_1960 as (\n",
    "    SELECT Year, Region, AVG(Value) as avg_mortality_rate_under5_1960\n",
    "FROM Indicators i\n",
    "INNER JOIN Country c\n",
    "ON i.CountryCode=c.CountryCode\n",
    "AND IndicatorName='Mortality rate, under-5 (per 1,000)'\n",
    "AND Year='1960' AND Region!=''\n",
    "GROUP BY 1, 2\n",
    "ORDER BY 3 DESC)\n",
    ",\n",
    "\n",
    "avg_2014 as (\n",
    "    SELECT Year, Region, AVG(Value) as avg_mortality_rate_under5_2014\n",
    "FROM Indicators i\n",
    "INNER JOIN Country c\n",
    "ON i.CountryCode=c.CountryCode\n",
    "AND IndicatorName='Mortality rate, under-5 (per 1,000)'\n",
    "AND Year='2014'\n",
    "GROUP BY 1, 2\n",
    "ORDER BY 3 DESC)\n",
    "\n",
    "SELECT a.Region, avg_mortality_rate_under5_1960, avg_mortality_rate_under5_2014, avg_mortality_rate_under5_2014-avg_mortality_rate_under5_1960 as change\n",
    "FROM avg_1960 a\n",
    "LEFT JOIN avg_2014 b\n",
    "ON a.Region=b.Region\n",
    "ORDER BY 4 DESC\n",
    "\n"
   ]
  },
  {
   "cell_type": "markdown",
   "id": "6aff041f",
   "metadata": {},
   "source": [
    "Comparing the earliest timepoint of the dataset to the most recent, we can see all regions have suffered a decrease in  mortality rate for children under 5. The regions of South Asia, Middle East & North Africa and Sub-Saharan Africa experienced the greatest reduction, nevertheless, they still display some of the highest values for this indicator in 2014."
   ]
  },
  {
   "cell_type": "markdown",
   "id": "03fb4aa6",
   "metadata": {},
   "source": [
    "Even though annual % of population growth **decreased** from 1960 to 2014 for all regions except Sub-Saharan Africa, the mortality rate for children under 5 for **did not increase** in that same period.\n",
    "\n",
    "This is not surprising. Mortality under 5 is one of many factors that influence population size and we cannot expect for it to solely account for population growth variation over the years."
   ]
  },
  {
   "cell_type": "code",
   "execution_count": null,
   "id": "b8e4f87f",
   "metadata": {},
   "outputs": [],
   "source": []
  }
 ],
 "metadata": {
  "kernelspec": {
   "display_name": "Python 3",
   "language": "python",
   "name": "python3"
  },
  "language_info": {
   "codemirror_mode": {
    "name": "ipython",
    "version": 3
   },
   "file_extension": ".py",
   "mimetype": "text/x-python",
   "name": "python",
   "nbconvert_exporter": "python",
   "pygments_lexer": "ipython3",
   "version": "3.8.8"
  },
  "vscode": {
   "interpreter": {
    "hash": "3ad7d65dfa036d677747ad0d1cb3b40758ab10c5a642d3a9ed950d7b495a4e61"
   }
  }
 },
 "nbformat": 4,
 "nbformat_minor": 5
}
